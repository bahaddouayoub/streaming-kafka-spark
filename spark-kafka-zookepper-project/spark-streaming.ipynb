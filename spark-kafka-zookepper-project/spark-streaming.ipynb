{
 "cells": [
  {
   "cell_type": "code",
   "execution_count": 1,
   "id": "85fdf030",
   "metadata": {},
   "outputs": [],
   "source": [
    "import pyspark"
   ]
  },
  {
   "cell_type": "code",
   "execution_count": 2,
   "id": "5617aa70",
   "metadata": {},
   "outputs": [
    {
     "name": "stdout",
     "output_type": "stream",
     "text": [
      "Welcome to\n",
      "      ____              __\n",
      "     / __/__  ___ _____/ /__\n",
      "    _\\ \\/ _ \\/ _ `/ __/  '_/\n",
      "   /___/ .__/\\_,_/_/ /_/\\_\\   version 3.3.0\n",
      "      /_/\n",
      "                        \n",
      "Using Scala version 2.12.15, OpenJDK 64-Bit Server VM, 11.0.17\n",
      "Branch HEAD\n",
      "Compiled by user ubuntu on 2022-06-09T19:58:58Z\n",
      "Revision f74867bddfbcdd4d08076db36851e88b15e66556\n",
      "Url https://github.com/apache/spark\n",
      "Type --help for more information.\n"
     ]
    }
   ],
   "source": [
    "!pyspark --version"
   ]
  },
  {
   "cell_type": "code",
   "execution_count": 3,
   "id": "6081c91c",
   "metadata": {},
   "outputs": [
    {
     "name": "stdout",
     "output_type": "stream",
     "text": [
      "Defaulting to user installation because normal site-packages is not writeable\n",
      "Requirement already satisfied: matplotlib in /usr/lib/python3/dist-packages (3.5.1)\n",
      "\n",
      "\u001b[1m[\u001b[0m\u001b[34;49mnotice\u001b[0m\u001b[1;39;49m]\u001b[0m\u001b[39;49m A new release of pip available: \u001b[0m\u001b[31;49m22.3\u001b[0m\u001b[39;49m -> \u001b[0m\u001b[32;49m22.3.1\u001b[0m\n",
      "\u001b[1m[\u001b[0m\u001b[34;49mnotice\u001b[0m\u001b[1;39;49m]\u001b[0m\u001b[39;49m To update, run: \u001b[0m\u001b[32;49mpython3 -m pip install --upgrade pip\u001b[0m\n"
     ]
    }
   ],
   "source": [
    "!pip install matplotlib"
   ]
  },
  {
   "cell_type": "code",
   "execution_count": 4,
   "id": "54bdd071",
   "metadata": {},
   "outputs": [
    {
     "name": "stdout",
     "output_type": "stream",
     "text": [
      "Defaulting to user installation because normal site-packages is not writeable\n",
      "Requirement already satisfied: seaborn in /home/ayoub/.local/lib/python3.10/site-packages (0.12.1)\n",
      "Requirement already satisfied: numpy>=1.17 in /usr/lib/python3/dist-packages (from seaborn) (1.21.5)\n",
      "Requirement already satisfied: pandas>=0.25 in /home/ayoub/.local/lib/python3.10/site-packages (from seaborn) (1.5.1)\n",
      "Requirement already satisfied: matplotlib!=3.6.1,>=3.1 in /usr/lib/python3/dist-packages (from seaborn) (3.5.1)\n",
      "Requirement already satisfied: python-dateutil>=2.8.1 in /usr/lib/python3/dist-packages (from pandas>=0.25->seaborn) (2.8.1)\n",
      "Requirement already satisfied: pytz>=2020.1 in /usr/lib/python3/dist-packages (from pandas>=0.25->seaborn) (2022.1)\n",
      "\n",
      "\u001b[1m[\u001b[0m\u001b[34;49mnotice\u001b[0m\u001b[1;39;49m]\u001b[0m\u001b[39;49m A new release of pip available: \u001b[0m\u001b[31;49m22.3\u001b[0m\u001b[39;49m -> \u001b[0m\u001b[32;49m22.3.1\u001b[0m\n",
      "\u001b[1m[\u001b[0m\u001b[34;49mnotice\u001b[0m\u001b[1;39;49m]\u001b[0m\u001b[39;49m To update, run: \u001b[0m\u001b[32;49mpython3 -m pip install --upgrade pip\u001b[0m\n"
     ]
    }
   ],
   "source": [
    "!pip install seaborn"
   ]
  },
  {
   "cell_type": "code",
   "execution_count": 5,
   "id": "82a732c5",
   "metadata": {},
   "outputs": [],
   "source": [
    "# import os\n",
    "# os.environ['PYSPARK_SUBMIT_ARGS'] = \"--packages=org.apache.spark:spark-sql-kafka-0-10_2.12:3.0.0 pyspark-shell\""
   ]
  },
  {
   "cell_type": "code",
   "execution_count": 1,
   "id": "8e3191f1",
   "metadata": {},
   "outputs": [],
   "source": [
    "from pyspark.sql import SparkSession\n",
    "from pyspark.ml import Pipeline\n",
    "import matplotlib.pyplot as plt\n",
    "import seaborn as sns\n",
    "from pyspark.sql.functions import isnan, when, count, col\n",
    "from pyspark.sql.functions import mean,col,split, col, regexp_extract, when, lit\n",
    "from pyspark.ml.feature import StringIndexer\n",
    "from pyspark.ml.feature import VectorAssembler\n",
    "from pyspark.ml.evaluation import MulticlassClassificationEvaluator\n",
    "from pyspark.ml.feature import QuantileDiscretizer"
   ]
  },
  {
   "cell_type": "code",
   "execution_count": 2,
   "id": "d6b05888",
   "metadata": {},
   "outputs": [
    {
     "name": "stderr",
     "output_type": "stream",
     "text": [
      "Setting default log level to \"WARN\".\n",
      "To adjust logging level use sc.setLogLevel(newLevel). For SparkR, use setLogLevel(newLevel).\n"
     ]
    },
    {
     "name": "stdout",
     "output_type": "stream",
     "text": [
      "22/11/13 12:10:12 WARN NativeCodeLoader: Unable to load native-hadoop library for your platform... using builtin-java classes where applicable\n"
     ]
    }
   ],
   "source": [
    "spark = SparkSession \\\n",
    "    .builder \\\n",
    "    .appName(\"Spark ML\") \\\n",
    "    .getOrCreate()"
   ]
  },
  {
   "cell_type": "code",
   "execution_count": 3,
   "id": "cb92c678",
   "metadata": {},
   "outputs": [
    {
     "name": "stderr",
     "output_type": "stream",
     "text": [
      "                                                                                \r"
     ]
    }
   ],
   "source": [
    "df = spark.read.csv(\"datasets/diabetes.csv\",header = 'True',inferSchema='True')"
   ]
  },
  {
   "cell_type": "code",
   "execution_count": 4,
   "id": "077baa13",
   "metadata": {},
   "outputs": [
    {
     "name": "stdout",
     "output_type": "stream",
     "text": [
      "root\n",
      " |-- Pregnancies: integer (nullable = true)\n",
      " |-- Glucose: integer (nullable = true)\n",
      " |-- BloodPressure: integer (nullable = true)\n",
      " |-- SkinThickness: integer (nullable = true)\n",
      " |-- Insulin: integer (nullable = true)\n",
      " |-- BMI: double (nullable = true)\n",
      " |-- DiabetesPedigreeFunction: double (nullable = true)\n",
      " |-- Age: integer (nullable = true)\n",
      " |-- Outcome: integer (nullable = true)\n",
      "\n"
     ]
    }
   ],
   "source": [
    "df.printSchema()"
   ]
  },
  {
   "cell_type": "code",
   "execution_count": 5,
   "id": "c47dc597",
   "metadata": {},
   "outputs": [
    {
     "data": {
      "text/plain": [
       "pyspark.sql.dataframe.DataFrame"
      ]
     },
     "execution_count": 5,
     "metadata": {},
     "output_type": "execute_result"
    }
   ],
   "source": [
    "type(df)"
   ]
  },
  {
   "cell_type": "code",
   "execution_count": 6,
   "id": "4ea2c434",
   "metadata": {
    "scrolled": true
   },
   "outputs": [
    {
     "name": "stderr",
     "output_type": "stream",
     "text": [
      "\r",
      "[Stage 2:>                                                          (0 + 1) / 1]\r",
      "\r",
      "                                                                                \r"
     ]
    },
    {
     "name": "stdout",
     "output_type": "stream",
     "text": [
      "+-----------+-------+-------------+-------------+-------+----+------------------------+---+-------+\n",
      "|Pregnancies|Glucose|BloodPressure|SkinThickness|Insulin| BMI|DiabetesPedigreeFunction|Age|Outcome|\n",
      "+-----------+-------+-------------+-------------+-------+----+------------------------+---+-------+\n",
      "|          6|    148|           72|           35|      0|33.6|                   0.627| 50|      1|\n",
      "|          1|     85|           66|           29|      0|26.6|                   0.351| 31|      0|\n",
      "|          8|    183|           64|            0|      0|23.3|                   0.672| 32|      1|\n",
      "|          1|     89|           66|           23|     94|28.1|                   0.167| 21|      0|\n",
      "|          0|    137|           40|           35|    168|43.1|                   2.288| 33|      1|\n",
      "+-----------+-------+-------------+-------------+-------+----+------------------------+---+-------+\n",
      "only showing top 5 rows\n",
      "\n"
     ]
    }
   ],
   "source": [
    "df.show(5)"
   ]
  },
  {
   "cell_type": "code",
   "execution_count": 7,
   "id": "12d52af1",
   "metadata": {},
   "outputs": [
    {
     "name": "stderr",
     "output_type": "stream",
     "text": [
      "                                                                                \r"
     ]
    },
    {
     "data": {
      "text/html": [
       "<div>\n",
       "<style scoped>\n",
       "    .dataframe tbody tr th:only-of-type {\n",
       "        vertical-align: middle;\n",
       "    }\n",
       "\n",
       "    .dataframe tbody tr th {\n",
       "        vertical-align: top;\n",
       "    }\n",
       "\n",
       "    .dataframe thead th {\n",
       "        text-align: right;\n",
       "    }\n",
       "</style>\n",
       "<table border=\"1\" class=\"dataframe\">\n",
       "  <thead>\n",
       "    <tr style=\"text-align: right;\">\n",
       "      <th></th>\n",
       "      <th>summary</th>\n",
       "      <th>Pregnancies</th>\n",
       "      <th>Glucose</th>\n",
       "      <th>BloodPressure</th>\n",
       "      <th>SkinThickness</th>\n",
       "      <th>Insulin</th>\n",
       "      <th>BMI</th>\n",
       "      <th>DiabetesPedigreeFunction</th>\n",
       "      <th>Age</th>\n",
       "      <th>Outcome</th>\n",
       "    </tr>\n",
       "  </thead>\n",
       "  <tbody>\n",
       "    <tr>\n",
       "      <th>0</th>\n",
       "      <td>count</td>\n",
       "      <td>768</td>\n",
       "      <td>768</td>\n",
       "      <td>768</td>\n",
       "      <td>768</td>\n",
       "      <td>768</td>\n",
       "      <td>768</td>\n",
       "      <td>768</td>\n",
       "      <td>768</td>\n",
       "      <td>768</td>\n",
       "    </tr>\n",
       "    <tr>\n",
       "      <th>1</th>\n",
       "      <td>mean</td>\n",
       "      <td>3.8450520833333335</td>\n",
       "      <td>120.89453125</td>\n",
       "      <td>69.10546875</td>\n",
       "      <td>20.536458333333332</td>\n",
       "      <td>79.79947916666667</td>\n",
       "      <td>31.992578124999977</td>\n",
       "      <td>0.4718763020833327</td>\n",
       "      <td>33.240885416666664</td>\n",
       "      <td>0.3489583333333333</td>\n",
       "    </tr>\n",
       "    <tr>\n",
       "      <th>2</th>\n",
       "      <td>stddev</td>\n",
       "      <td>3.36957806269887</td>\n",
       "      <td>31.97261819513622</td>\n",
       "      <td>19.355807170644777</td>\n",
       "      <td>15.952217567727642</td>\n",
       "      <td>115.24400235133803</td>\n",
       "      <td>7.884160320375441</td>\n",
       "      <td>0.331328595012775</td>\n",
       "      <td>11.760231540678689</td>\n",
       "      <td>0.476951377242799</td>\n",
       "    </tr>\n",
       "    <tr>\n",
       "      <th>3</th>\n",
       "      <td>min</td>\n",
       "      <td>0</td>\n",
       "      <td>0</td>\n",
       "      <td>0</td>\n",
       "      <td>0</td>\n",
       "      <td>0</td>\n",
       "      <td>0.0</td>\n",
       "      <td>0.078</td>\n",
       "      <td>21</td>\n",
       "      <td>0</td>\n",
       "    </tr>\n",
       "    <tr>\n",
       "      <th>4</th>\n",
       "      <td>max</td>\n",
       "      <td>17</td>\n",
       "      <td>199</td>\n",
       "      <td>122</td>\n",
       "      <td>99</td>\n",
       "      <td>846</td>\n",
       "      <td>67.1</td>\n",
       "      <td>2.42</td>\n",
       "      <td>81</td>\n",
       "      <td>1</td>\n",
       "    </tr>\n",
       "  </tbody>\n",
       "</table>\n",
       "</div>"
      ],
      "text/plain": [
       "  summary         Pregnancies            Glucose       BloodPressure  \\\n",
       "0   count                 768                768                 768   \n",
       "1    mean  3.8450520833333335       120.89453125         69.10546875   \n",
       "2  stddev    3.36957806269887  31.97261819513622  19.355807170644777   \n",
       "3     min                   0                  0                   0   \n",
       "4     max                  17                199                 122   \n",
       "\n",
       "        SkinThickness             Insulin                 BMI  \\\n",
       "0                 768                 768                 768   \n",
       "1  20.536458333333332   79.79947916666667  31.992578124999977   \n",
       "2  15.952217567727642  115.24400235133803   7.884160320375441   \n",
       "3                   0                   0                 0.0   \n",
       "4                  99                 846                67.1   \n",
       "\n",
       "  DiabetesPedigreeFunction                 Age             Outcome  \n",
       "0                      768                 768                 768  \n",
       "1       0.4718763020833327  33.240885416666664  0.3489583333333333  \n",
       "2        0.331328595012775  11.760231540678689   0.476951377242799  \n",
       "3                    0.078                  21                   0  \n",
       "4                     2.42                  81                   1  "
      ]
     },
     "execution_count": 7,
     "metadata": {},
     "output_type": "execute_result"
    }
   ],
   "source": [
    "df.describe().toPandas()"
   ]
  },
  {
   "cell_type": "code",
   "execution_count": 8,
   "id": "6e5afd29",
   "metadata": {},
   "outputs": [
    {
     "data": {
      "text/html": [
       "<div>\n",
       "<style scoped>\n",
       "    .dataframe tbody tr th:only-of-type {\n",
       "        vertical-align: middle;\n",
       "    }\n",
       "\n",
       "    .dataframe tbody tr th {\n",
       "        vertical-align: top;\n",
       "    }\n",
       "\n",
       "    .dataframe thead th {\n",
       "        text-align: right;\n",
       "    }\n",
       "</style>\n",
       "<table border=\"1\" class=\"dataframe\">\n",
       "  <thead>\n",
       "    <tr style=\"text-align: right;\">\n",
       "      <th></th>\n",
       "      <th>Outcome</th>\n",
       "      <th>count</th>\n",
       "    </tr>\n",
       "  </thead>\n",
       "  <tbody>\n",
       "    <tr>\n",
       "      <th>0</th>\n",
       "      <td>1</td>\n",
       "      <td>268</td>\n",
       "    </tr>\n",
       "    <tr>\n",
       "      <th>1</th>\n",
       "      <td>0</td>\n",
       "      <td>500</td>\n",
       "    </tr>\n",
       "  </tbody>\n",
       "</table>\n",
       "</div>"
      ],
      "text/plain": [
       "   Outcome  count\n",
       "0        1    268\n",
       "1        0    500"
      ]
     },
     "execution_count": 8,
     "metadata": {},
     "output_type": "execute_result"
    }
   ],
   "source": [
    "\n",
    "df.groupby('Outcome').count().toPandas()"
   ]
  },
  {
   "cell_type": "code",
   "execution_count": 9,
   "id": "2c3b66f1",
   "metadata": {},
   "outputs": [
    {
     "data": {
      "text/plain": [
       "768"
      ]
     },
     "execution_count": 9,
     "metadata": {},
     "output_type": "execute_result"
    }
   ],
   "source": [
    "df.count()"
   ]
  },
  {
   "cell_type": "code",
   "execution_count": 10,
   "id": "ad24ab2e",
   "metadata": {},
   "outputs": [
    {
     "name": "stdout",
     "output_type": "stream",
     "text": [
      "+-------+-----+\n",
      "|Outcome|count|\n",
      "+-------+-----+\n",
      "|      1|  268|\n",
      "|      0|  500|\n",
      "+-------+-----+\n",
      "\n"
     ]
    }
   ],
   "source": [
    "df.groupby('Outcome').count().show()"
   ]
  },
  {
   "cell_type": "code",
   "execution_count": 11,
   "id": "339a767f",
   "metadata": {
    "scrolled": true
   },
   "outputs": [
    {
     "data": {
      "image/png": "[encoded data removed]",
      "text/plain": [
       "<Figure size 1800x1080 with 9 Axes>"
      ]
     },
     "metadata": {
      "needs_background": "light"
     },
     "output_type": "display_data"
    }
   ],
   "source": [
    "fig = plt.figure(figsize=(25, 15))\n",
    "st = fig.suptitle(\"Distribution of Features\", fontsize=50, verticalalignment=\"center\")\n",
    "for col, num in zip(df.toPandas().describe().columns, range(1,11)):\n",
    "      ax = fig.add_subplot(3,4, num)\n",
    "      ax.hist(df.toPandas()[col])\n",
    "      plt.grid(False)\n",
    "      plt.xticks(rotation=45, fontsize=20)\n",
    "      plt.yticks(fontsize=15)\n",
    "      plt.title(col.upper(), fontsize=20)\n",
    "\n",
    "plt.tight_layout()\n",
    "st.set_y(0.95)\n",
    "fig.subplots_adjust(top=0.85, hspace=0.4)\n",
    "plt.show()"
   ]
  },
  {
   "cell_type": "code",
   "execution_count": 12,
   "id": "a7c36084",
   "metadata": {},
   "outputs": [
    {
     "data": {
      "text/html": [
       "<div>\n",
       "<style scoped>\n",
       "    .dataframe tbody tr th:only-of-type {\n",
       "        vertical-align: middle;\n",
       "    }\n",
       "\n",
       "    .dataframe tbody tr th {\n",
       "        vertical-align: top;\n",
       "    }\n",
       "\n",
       "    .dataframe thead th {\n",
       "        text-align: right;\n",
       "    }\n",
       "</style>\n",
       "<table border=\"1\" class=\"dataframe\">\n",
       "  <thead>\n",
       "    <tr style=\"text-align: right;\">\n",
       "      <th></th>\n",
       "      <th>Pregnancies</th>\n",
       "      <th>Glucose</th>\n",
       "      <th>BloodPressure</th>\n",
       "      <th>SkinThickness</th>\n",
       "      <th>Insulin</th>\n",
       "      <th>BMI</th>\n",
       "      <th>DiabetesPedigreeFunction</th>\n",
       "      <th>Age</th>\n",
       "      <th>Outcome</th>\n",
       "    </tr>\n",
       "  </thead>\n",
       "  <tbody>\n",
       "    <tr>\n",
       "      <th>0</th>\n",
       "      <td>0</td>\n",
       "      <td>0</td>\n",
       "      <td>0</td>\n",
       "      <td>0</td>\n",
       "      <td>0</td>\n",
       "      <td>0</td>\n",
       "      <td>0</td>\n",
       "      <td>0</td>\n",
       "      <td>0</td>\n",
       "    </tr>\n",
       "  </tbody>\n",
       "</table>\n",
       "</div>"
      ],
      "text/plain": [
       "   Pregnancies  Glucose  BloodPressure  SkinThickness  Insulin  BMI  \\\n",
       "0            0        0              0              0        0    0   \n",
       "\n",
       "   DiabetesPedigreeFunction  Age  Outcome  \n",
       "0                         0    0        0  "
      ]
     },
     "execution_count": 12,
     "metadata": {},
     "output_type": "execute_result"
    }
   ],
   "source": [
    "df.select([count(when(isnan(c),c)).alias(c) for c in df.columns]).toPandas().head()"
   ]
  },
  {
   "cell_type": "code",
   "execution_count": 13,
   "id": "1e28ddd7",
   "metadata": {},
   "outputs": [
    {
     "data": {
      "text/html": [
       "<div>\n",
       "<style scoped>\n",
       "    .dataframe tbody tr th:only-of-type {\n",
       "        vertical-align: middle;\n",
       "    }\n",
       "\n",
       "    .dataframe tbody tr th {\n",
       "        vertical-align: top;\n",
       "    }\n",
       "\n",
       "    .dataframe thead th {\n",
       "        text-align: right;\n",
       "    }\n",
       "</style>\n",
       "<table border=\"1\" class=\"dataframe\">\n",
       "  <thead>\n",
       "    <tr style=\"text-align: right;\">\n",
       "      <th></th>\n",
       "      <th>Pregnancies</th>\n",
       "      <th>Glucose</th>\n",
       "      <th>BloodPressure</th>\n",
       "      <th>SkinThickness</th>\n",
       "      <th>Insulin</th>\n",
       "      <th>BMI</th>\n",
       "      <th>DiabetesPedigreeFunction</th>\n",
       "      <th>Age</th>\n",
       "      <th>Outcome</th>\n",
       "    </tr>\n",
       "  </thead>\n",
       "  <tbody>\n",
       "    <tr>\n",
       "      <th>0</th>\n",
       "      <td>6</td>\n",
       "      <td>148</td>\n",
       "      <td>72</td>\n",
       "      <td>35</td>\n",
       "      <td>0</td>\n",
       "      <td>33.6</td>\n",
       "      <td>0.627</td>\n",
       "      <td>50</td>\n",
       "      <td>1</td>\n",
       "    </tr>\n",
       "    <tr>\n",
       "      <th>1</th>\n",
       "      <td>1</td>\n",
       "      <td>85</td>\n",
       "      <td>66</td>\n",
       "      <td>29</td>\n",
       "      <td>0</td>\n",
       "      <td>26.6</td>\n",
       "      <td>0.351</td>\n",
       "      <td>31</td>\n",
       "      <td>0</td>\n",
       "    </tr>\n",
       "    <tr>\n",
       "      <th>2</th>\n",
       "      <td>8</td>\n",
       "      <td>183</td>\n",
       "      <td>64</td>\n",
       "      <td>0</td>\n",
       "      <td>0</td>\n",
       "      <td>23.3</td>\n",
       "      <td>0.672</td>\n",
       "      <td>32</td>\n",
       "      <td>1</td>\n",
       "    </tr>\n",
       "    <tr>\n",
       "      <th>3</th>\n",
       "      <td>1</td>\n",
       "      <td>89</td>\n",
       "      <td>66</td>\n",
       "      <td>23</td>\n",
       "      <td>94</td>\n",
       "      <td>28.1</td>\n",
       "      <td>0.167</td>\n",
       "      <td>21</td>\n",
       "      <td>0</td>\n",
       "    </tr>\n",
       "    <tr>\n",
       "      <th>4</th>\n",
       "      <td>0</td>\n",
       "      <td>137</td>\n",
       "      <td>40</td>\n",
       "      <td>35</td>\n",
       "      <td>168</td>\n",
       "      <td>43.1</td>\n",
       "      <td>2.288</td>\n",
       "      <td>33</td>\n",
       "      <td>1</td>\n",
       "    </tr>\n",
       "  </tbody>\n",
       "</table>\n",
       "</div>"
      ],
      "text/plain": [
       "   Pregnancies  Glucose  BloodPressure  SkinThickness  Insulin   BMI  \\\n",
       "0            6      148             72             35        0  33.6   \n",
       "1            1       85             66             29        0  26.6   \n",
       "2            8      183             64              0        0  23.3   \n",
       "3            1       89             66             23       94  28.1   \n",
       "4            0      137             40             35      168  43.1   \n",
       "\n",
       "   DiabetesPedigreeFunction  Age  Outcome  \n",
       "0                     0.627   50        1  \n",
       "1                     0.351   31        0  \n",
       "2                     0.672   32        1  \n",
       "3                     0.167   21        0  \n",
       "4                     2.288   33        1  "
      ]
     },
     "execution_count": 13,
     "metadata": {},
     "output_type": "execute_result"
    }
   ],
   "source": [
    "numeric_features = [t[0] for t in df.dtypes if t[1] !='string']\n",
    "numeric_features_df = df.select(numeric_features)\n",
    "numeric_features_df.toPandas().head()"
   ]
  },
  {
   "cell_type": "code",
   "execution_count": 14,
   "id": "c6729009",
   "metadata": {},
   "outputs": [],
   "source": [
    "col_names = numeric_features_df.columns\n",
    "features = numeric_features_df.rdd.map(lambda row: row[0:])"
   ]
  },
  {
   "cell_type": "code",
   "execution_count": 15,
   "id": "82f5a895",
   "metadata": {},
   "outputs": [],
   "source": [
    "from pyspark.mllib.stat import Statistics\n",
    "import pandas as pd"
   ]
  },
  {
   "cell_type": "code",
   "execution_count": 16,
   "id": "6457b43f",
   "metadata": {},
   "outputs": [
    {
     "name": "stderr",
     "output_type": "stream",
     "text": [
      "                                                                                \r"
     ]
    },
    {
     "data": {
      "text/html": [
       "<div>\n",
       "<style scoped>\n",
       "    .dataframe tbody tr th:only-of-type {\n",
       "        vertical-align: middle;\n",
       "    }\n",
       "\n",
       "    .dataframe tbody tr th {\n",
       "        vertical-align: top;\n",
       "    }\n",
       "\n",
       "    .dataframe thead th {\n",
       "        text-align: right;\n",
       "    }\n",
       "</style>\n",
       "<table border=\"1\" class=\"dataframe\">\n",
       "  <thead>\n",
       "    <tr style=\"text-align: right;\">\n",
       "      <th></th>\n",
       "      <th>Pregnancies</th>\n",
       "      <th>Glucose</th>\n",
       "      <th>BloodPressure</th>\n",
       "      <th>SkinThickness</th>\n",
       "      <th>Insulin</th>\n",
       "      <th>BMI</th>\n",
       "      <th>DiabetesPedigreeFunction</th>\n",
       "      <th>Age</th>\n",
       "      <th>Outcome</th>\n",
       "    </tr>\n",
       "  </thead>\n",
       "  <tbody>\n",
       "    <tr>\n",
       "      <th>Pregnancies</th>\n",
       "      <td>1.00</td>\n",
       "      <td>0.13</td>\n",
       "      <td>0.14</td>\n",
       "      <td>-0.08</td>\n",
       "      <td>-0.07</td>\n",
       "      <td>0.02</td>\n",
       "      <td>-0.03</td>\n",
       "      <td>0.54</td>\n",
       "      <td>0.22</td>\n",
       "    </tr>\n",
       "    <tr>\n",
       "      <th>Glucose</th>\n",
       "      <td>0.13</td>\n",
       "      <td>1.00</td>\n",
       "      <td>0.15</td>\n",
       "      <td>0.06</td>\n",
       "      <td>0.33</td>\n",
       "      <td>0.22</td>\n",
       "      <td>0.14</td>\n",
       "      <td>0.26</td>\n",
       "      <td>0.47</td>\n",
       "    </tr>\n",
       "    <tr>\n",
       "      <th>BloodPressure</th>\n",
       "      <td>0.14</td>\n",
       "      <td>0.15</td>\n",
       "      <td>1.00</td>\n",
       "      <td>0.21</td>\n",
       "      <td>0.09</td>\n",
       "      <td>0.28</td>\n",
       "      <td>0.04</td>\n",
       "      <td>0.24</td>\n",
       "      <td>0.07</td>\n",
       "    </tr>\n",
       "    <tr>\n",
       "      <th>SkinThickness</th>\n",
       "      <td>-0.08</td>\n",
       "      <td>0.06</td>\n",
       "      <td>0.21</td>\n",
       "      <td>1.00</td>\n",
       "      <td>0.44</td>\n",
       "      <td>0.39</td>\n",
       "      <td>0.18</td>\n",
       "      <td>-0.11</td>\n",
       "      <td>0.07</td>\n",
       "    </tr>\n",
       "    <tr>\n",
       "      <th>Insulin</th>\n",
       "      <td>-0.07</td>\n",
       "      <td>0.33</td>\n",
       "      <td>0.09</td>\n",
       "      <td>0.44</td>\n",
       "      <td>1.00</td>\n",
       "      <td>0.20</td>\n",
       "      <td>0.19</td>\n",
       "      <td>-0.04</td>\n",
       "      <td>0.13</td>\n",
       "    </tr>\n",
       "    <tr>\n",
       "      <th>BMI</th>\n",
       "      <td>0.02</td>\n",
       "      <td>0.22</td>\n",
       "      <td>0.28</td>\n",
       "      <td>0.39</td>\n",
       "      <td>0.20</td>\n",
       "      <td>1.00</td>\n",
       "      <td>0.14</td>\n",
       "      <td>0.04</td>\n",
       "      <td>0.29</td>\n",
       "    </tr>\n",
       "    <tr>\n",
       "      <th>DiabetesPedigreeFunction</th>\n",
       "      <td>-0.03</td>\n",
       "      <td>0.14</td>\n",
       "      <td>0.04</td>\n",
       "      <td>0.18</td>\n",
       "      <td>0.19</td>\n",
       "      <td>0.14</td>\n",
       "      <td>1.00</td>\n",
       "      <td>0.03</td>\n",
       "      <td>0.17</td>\n",
       "    </tr>\n",
       "    <tr>\n",
       "      <th>Age</th>\n",
       "      <td>0.54</td>\n",
       "      <td>0.26</td>\n",
       "      <td>0.24</td>\n",
       "      <td>-0.11</td>\n",
       "      <td>-0.04</td>\n",
       "      <td>0.04</td>\n",
       "      <td>0.03</td>\n",
       "      <td>1.00</td>\n",
       "      <td>0.24</td>\n",
       "    </tr>\n",
       "    <tr>\n",
       "      <th>Outcome</th>\n",
       "      <td>0.22</td>\n",
       "      <td>0.47</td>\n",
       "      <td>0.07</td>\n",
       "      <td>0.07</td>\n",
       "      <td>0.13</td>\n",
       "      <td>0.29</td>\n",
       "      <td>0.17</td>\n",
       "      <td>0.24</td>\n",
       "      <td>1.00</td>\n",
       "    </tr>\n",
       "  </tbody>\n",
       "</table>\n",
       "</div>"
      ],
      "text/plain": [
       "                          Pregnancies  Glucose  BloodPressure  SkinThickness  \\\n",
       "Pregnancies                      1.00     0.13           0.14          -0.08   \n",
       "Glucose                          0.13     1.00           0.15           0.06   \n",
       "BloodPressure                    0.14     0.15           1.00           0.21   \n",
       "SkinThickness                   -0.08     0.06           0.21           1.00   \n",
       "Insulin                         -0.07     0.33           0.09           0.44   \n",
       "BMI                              0.02     0.22           0.28           0.39   \n",
       "DiabetesPedigreeFunction        -0.03     0.14           0.04           0.18   \n",
       "Age                              0.54     0.26           0.24          -0.11   \n",
       "Outcome                          0.22     0.47           0.07           0.07   \n",
       "\n",
       "                          Insulin   BMI  DiabetesPedigreeFunction   Age  \\\n",
       "Pregnancies                 -0.07  0.02                     -0.03  0.54   \n",
       "Glucose                      0.33  0.22                      0.14  0.26   \n",
       "BloodPressure                0.09  0.28                      0.04  0.24   \n",
       "SkinThickness                0.44  0.39                      0.18 -0.11   \n",
       "Insulin                      1.00  0.20                      0.19 -0.04   \n",
       "BMI                          0.20  1.00                      0.14  0.04   \n",
       "DiabetesPedigreeFunction     0.19  0.14                      1.00  0.03   \n",
       "Age                         -0.04  0.04                      0.03  1.00   \n",
       "Outcome                      0.13  0.29                      0.17  0.24   \n",
       "\n",
       "                          Outcome  \n",
       "Pregnancies                  0.22  \n",
       "Glucose                      0.47  \n",
       "BloodPressure                0.07  \n",
       "SkinThickness                0.07  \n",
       "Insulin                      0.13  \n",
       "BMI                          0.29  \n",
       "DiabetesPedigreeFunction     0.17  \n",
       "Age                          0.24  \n",
       "Outcome                      1.00  "
      ]
     },
     "execution_count": 16,
     "metadata": {},
     "output_type": "execute_result"
    }
   ],
   "source": [
    "corr_mat = Statistics.corr(features, method=\"pearson\")\n",
    "corr_df = pd.DataFrame(corr_mat)\n",
    "corr_df.index = col_names\n",
    "corr_df.columns = col_names\n",
    "round(corr_df, 2)"
   ]
  },
  {
   "cell_type": "code",
   "execution_count": 17,
   "id": "9378b834",
   "metadata": {},
   "outputs": [
    {
     "data": {
      "image/png": "[encoded data removed]",
      "text/plain": [
       "<Figure size 432x288 with 2 Axes>"
      ]
     },
     "metadata": {
      "needs_background": "light"
     },
     "output_type": "display_data"
    }
   ],
   "source": [
    "sns.heatmap(corr_df);"
   ]
  },
  {
   "cell_type": "code",
   "execution_count": 18,
   "id": "d7dd6186",
   "metadata": {},
   "outputs": [
    {
     "name": "stderr",
     "output_type": "stream",
     "text": [
      "                                                                                \r"
     ]
    },
    {
     "data": {
      "image/png": "[encoded data removed]",
      "text/plain": [
       "<Figure size 576x576 with 49 Axes>"
      ]
     },
     "metadata": {
      "needs_background": "light"
     },
     "output_type": "display_data"
    }
   ],
   "source": [
    "from pandas.plotting import scatter_matrix\n",
    "\n",
    "numeric_features = [t[0] for t in df.dtypes if t[1] == 'int']\n",
    "df.select(numeric_features).describe().toPandas().transpose()\n",
    "\n",
    "numeric_data = df.select(numeric_features).toPandas()\n",
    "\n",
    "axs = scatter_matrix(numeric_data, figsize=(8, 8));\n",
    "\n",
    "# Rotate axis labels and remove axis ticks\n",
    "n = len(numeric_data.columns)\n",
    "for i in range(n):\n",
    "    v = axs[i, 0]\n",
    "    v.yaxis.label.set_rotation(0)\n",
    "    v.yaxis.label.set_ha('right')\n",
    "    v.set_yticks(())\n",
    "    h = axs[n-1, i]\n",
    "    h.xaxis.label.set_rotation(90)\n",
    "    h.set_xticks(())"
   ]
  },
  {
   "cell_type": "code",
   "execution_count": 19,
   "id": "4f475e9f",
   "metadata": {},
   "outputs": [
    {
     "name": "stdout",
     "output_type": "stream",
     "text": [
      "+-------+-------------+-------+----+---+-------+\n",
      "|Glucose|BloodPressure|Insulin| BMI|Age|Outcome|\n",
      "+-------+-------------+-------+----+---+-------+\n",
      "|    148|           72|      0|33.6| 50|      1|\n",
      "|     85|           66|      0|26.6| 31|      0|\n",
      "|    183|           64|      0|23.3| 32|      1|\n",
      "|     89|           66|     94|28.1| 21|      0|\n",
      "|    137|           40|    168|43.1| 33|      1|\n",
      "|    116|           74|      0|25.6| 30|      0|\n",
      "|     78|           50|     88|31.0| 26|      1|\n",
      "|    115|            0|      0|35.3| 29|      0|\n",
      "|    197|           70|    543|30.5| 53|      1|\n",
      "|    125|           96|      0| 0.0| 54|      1|\n",
      "|    110|           92|      0|37.6| 30|      0|\n",
      "|    168|           74|      0|38.0| 34|      1|\n",
      "|    139|           80|      0|27.1| 57|      0|\n",
      "|    189|           60|    846|30.1| 59|      1|\n",
      "|    166|           72|    175|25.8| 51|      1|\n",
      "|    100|            0|      0|30.0| 32|      1|\n",
      "|    118|           84|    230|45.8| 31|      1|\n",
      "|    107|           74|      0|29.6| 31|      1|\n",
      "|    103|           30|     83|43.3| 33|      0|\n",
      "|    115|           70|     96|34.6| 32|      1|\n",
      "+-------+-------------+-------+----+---+-------+\n",
      "only showing top 20 rows\n",
      "\n"
     ]
    }
   ],
   "source": [
    "# Drop unnecessary columns\n",
    "df = df.drop('SkinThickness')\n",
    "df = df.drop('DiabetesPedigreeFunction')\n",
    "df = df.drop('Pregnancies')\n",
    "\n",
    "df.show()"
   ]
  },
  {
   "cell_type": "code",
   "execution_count": 20,
   "id": "2abb9192",
   "metadata": {},
   "outputs": [
    {
     "name": "stderr",
     "output_type": "stream",
     "text": [
      "\r",
      "[Stage 38:>                                                         (0 + 1) / 1]\r"
     ]
    },
    {
     "name": "stdout",
     "output_type": "stream",
     "text": [
      "+-------+-------------+-------+----+---+-------+--------------------+\n",
      "|Glucose|BloodPressure|Insulin| BMI|Age|Outcome|            features|\n",
      "+-------+-------------+-------+----+---+-------+--------------------+\n",
      "|    148|           72|      0|33.6| 50|      1|[148.0,72.0,33.6,...|\n",
      "|     85|           66|      0|26.6| 31|      0|[85.0,66.0,26.6,3...|\n",
      "|    183|           64|      0|23.3| 32|      1|[183.0,64.0,23.3,...|\n",
      "|     89|           66|     94|28.1| 21|      0|[89.0,66.0,28.1,2...|\n",
      "|    137|           40|    168|43.1| 33|      1|[137.0,40.0,43.1,...|\n",
      "|    116|           74|      0|25.6| 30|      0|[116.0,74.0,25.6,...|\n",
      "|     78|           50|     88|31.0| 26|      1|[78.0,50.0,31.0,2...|\n",
      "|    115|            0|      0|35.3| 29|      0|[115.0,0.0,35.3,2...|\n",
      "|    197|           70|    543|30.5| 53|      1|[197.0,70.0,30.5,...|\n",
      "|    125|           96|      0| 0.0| 54|      1|[125.0,96.0,0.0,5...|\n",
      "|    110|           92|      0|37.6| 30|      0|[110.0,92.0,37.6,...|\n",
      "|    168|           74|      0|38.0| 34|      1|[168.0,74.0,38.0,...|\n",
      "|    139|           80|      0|27.1| 57|      0|[139.0,80.0,27.1,...|\n",
      "|    189|           60|    846|30.1| 59|      1|[189.0,60.0,30.1,...|\n",
      "|    166|           72|    175|25.8| 51|      1|[166.0,72.0,25.8,...|\n",
      "|    100|            0|      0|30.0| 32|      1|[100.0,0.0,30.0,3...|\n",
      "|    118|           84|    230|45.8| 31|      1|[118.0,84.0,45.8,...|\n",
      "|    107|           74|      0|29.6| 31|      1|[107.0,74.0,29.6,...|\n",
      "|    103|           30|     83|43.3| 33|      0|[103.0,30.0,43.3,...|\n",
      "|    115|           70|     96|34.6| 32|      1|[115.0,70.0,34.6,...|\n",
      "+-------+-------------+-------+----+---+-------+--------------------+\n",
      "only showing top 20 rows\n",
      "\n"
     ]
    },
    {
     "name": "stderr",
     "output_type": "stream",
     "text": [
      "\r",
      "                                                                                \r"
     ]
    }
   ],
   "source": [
    "# Assemble all the features with VectorAssembler\n",
    "\n",
    "required_features = ['Glucose',\n",
    "                    'BloodPressure',\n",
    "                    'BMI',\n",
    "                    'Age',\n",
    "                    'Insulin'\n",
    "                   ]\n",
    "from pyspark.ml.feature import VectorAssembler\n",
    "\n",
    "assembler = VectorAssembler(inputCols=required_features, outputCol='features')\n",
    "\n",
    "transformed_data = assembler.transform(df)\n",
    "type(transformed_data)\n",
    "transformed_data.show()"
   ]
  },
  {
   "cell_type": "code",
   "execution_count": 21,
   "id": "933817f7",
   "metadata": {},
   "outputs": [],
   "source": [
    "# Split the data\n",
    "(training_data, test_data) = transformed_data.randomSplit([0.8,0.2])"
   ]
  },
  {
   "cell_type": "markdown",
   "id": "bc6d1d37",
   "metadata": {},
   "source": [
    "## RandomForestClassifier"
   ]
  },
  {
   "cell_type": "code",
   "execution_count": 22,
   "id": "a1052f67",
   "metadata": {},
   "outputs": [],
   "source": [
    "# Define the model\n",
    "from pyspark.ml.classification import RandomForestClassifier\n",
    "\n",
    "rf = RandomForestClassifier(labelCol='Outcome', \n",
    "                            featuresCol='features',\n",
    "                            maxDepth=5)"
   ]
  },
  {
   "cell_type": "code",
   "execution_count": 23,
   "id": "8e234598",
   "metadata": {},
   "outputs": [
    {
     "name": "stderr",
     "output_type": "stream",
     "text": [
      "                                                                                \r"
     ]
    }
   ],
   "source": [
    "# Fit the model\n",
    "model = rf.fit(training_data)"
   ]
  },
  {
   "cell_type": "code",
   "execution_count": 24,
   "id": "ba560f1f",
   "metadata": {},
   "outputs": [],
   "source": [
    "# Predict with the test dataset\n",
    "rf_predictions = model.transform(test_data)"
   ]
  },
  {
   "cell_type": "code",
   "execution_count": 25,
   "id": "5699cec8",
   "metadata": {},
   "outputs": [
    {
     "data": {
      "text/plain": [
       "pyspark.sql.dataframe.DataFrame"
      ]
     },
     "execution_count": 25,
     "metadata": {},
     "output_type": "execute_result"
    }
   ],
   "source": [
    "type(rf_predictions)"
   ]
  },
  {
   "cell_type": "code",
   "execution_count": 26,
   "id": "a65fc5f2",
   "metadata": {
    "scrolled": true
   },
   "outputs": [
    {
     "name": "stderr",
     "output_type": "stream",
     "text": [
      "\r",
      "[Stage 56:>                                                         (0 + 1) / 1]\r",
      "\r",
      "                                                                                \r"
     ]
    },
    {
     "name": "stdout",
     "output_type": "stream",
     "text": [
      "+-------+-------------+-------+----+---+-------+--------------------+--------------------+--------------------+----------+\n",
      "|Glucose|BloodPressure|Insulin| BMI|Age|Outcome|            features|       rawPrediction|         probability|prediction|\n",
      "+-------+-------------+-------+----+---+-------+--------------------+--------------------+--------------------+----------+\n",
      "|     56|           56|     45|24.2| 22|      0|[56.0,56.0,24.2,2...|[19.6098310107897...|[0.98049155053948...|       0.0|\n",
      "|     57|           80|      0|32.8| 41|      0|[57.0,80.0,32.8,4...|[16.3032212236646...|[0.81516106118323...|       0.0|\n",
      "|     65|           72|      0|32.0| 42|      0|[65.0,72.0,32.0,4...|[16.9234026295602...|[0.84617013147801...|       0.0|\n",
      "|     71|           48|     76|20.4| 22|      0|[71.0,48.0,20.4,2...|[19.6098310107897...|[0.98049155053948...|       0.0|\n",
      "|     74|           68|     45|29.7| 23|      0|[74.0,68.0,29.7,2...|[18.9472273760569...|[0.94736136880284...|       0.0|\n",
      "|     75|           82|      0|33.3| 38|      0|[75.0,82.0,33.3,3...|[16.3032212236646...|[0.81516106118323...|       0.0|\n",
      "|     77|           56|     56|33.3| 24|      0|[77.0,56.0,33.3,2...|[17.7644577162714...|[0.88822288581357...|       0.0|\n",
      "|     80|           80|      0|39.8| 28|      0|[80.0,80.0,39.8,2...|[17.3128665900467...|[0.86564332950233...|       0.0|\n",
      "|     81|           60|      0|27.7| 25|      0|[81.0,60.0,27.7,2...|[19.2297268126131...|[0.96148634063065...|       0.0|\n",
      "|     82|           52|    115|28.5| 25|      0|[82.0,52.0,28.5,2...|[19.2885646036888...|[0.96442823018444...|       0.0|\n",
      "|     83|           66|     50|32.2| 22|      0|[83.0,66.0,32.2,2...|[18.1079547250040...|[0.90539773625020...|       0.0|\n",
      "|     84|           50|     76|30.4| 21|      0|[84.0,50.0,30.4,2...|[18.9472273760569...|[0.94736136880284...|       0.0|\n",
      "|     84|           64|    115|36.9| 28|      0|[84.0,64.0,36.9,2...|[17.7106202978032...|[0.88553101489016...|       0.0|\n",
      "|     84|           72|      0|29.7| 46|      1|[84.0,72.0,29.7,4...|[16.1683005887439...|[0.80841502943719...|       0.0|\n",
      "|     85|           65|      0|39.6| 27|      0|[85.0,65.0,39.6,2...|[15.9845546242348...|[0.79922773121174...|       0.0|\n",
      "|     86|           66|     65|41.3| 29|      0|[86.0,66.0,41.3,2...|[15.6096792450263...|[0.78048396225131...|       0.0|\n",
      "|     87|           60|      0|21.8| 21|      0|[87.0,60.0,21.8,2...|[19.6098310107897...|[0.98049155053948...|       0.0|\n",
      "|     88|           30|     99|55.0| 26|      1|[88.0,30.0,55.0,2...|[17.8396380944044...|[0.89198190472022...|       0.0|\n",
      "|     88|           78|     76|32.0| 29|      0|[88.0,78.0,32.0,2...|[17.8669511939267...|[0.89334755969633...|       0.0|\n",
      "|     90|           62|     43|27.2| 24|      0|[90.0,62.0,27.2,2...|[19.4608179250800...|[0.97304089625400...|       0.0|\n",
      "+-------+-------------+-------+----+---+-------+--------------------+--------------------+--------------------+----------+\n",
      "only showing top 20 rows\n",
      "\n"
     ]
    }
   ],
   "source": [
    "rf_predictions.show()"
   ]
  },
  {
   "cell_type": "code",
   "execution_count": 27,
   "id": "92006086",
   "metadata": {},
   "outputs": [
    {
     "data": {
      "text/html": [
       "<div>\n",
       "<style scoped>\n",
       "    .dataframe tbody tr th:only-of-type {\n",
       "        vertical-align: middle;\n",
       "    }\n",
       "\n",
       "    .dataframe tbody tr th {\n",
       "        vertical-align: top;\n",
       "    }\n",
       "\n",
       "    .dataframe thead th {\n",
       "        text-align: right;\n",
       "    }\n",
       "</style>\n",
       "<table border=\"1\" class=\"dataframe\">\n",
       "  <thead>\n",
       "    <tr style=\"text-align: right;\">\n",
       "      <th></th>\n",
       "      <th>Glucose</th>\n",
       "      <th>BloodPressure</th>\n",
       "      <th>Insulin</th>\n",
       "      <th>BMI</th>\n",
       "      <th>Age</th>\n",
       "      <th>Outcome</th>\n",
       "      <th>features</th>\n",
       "      <th>rawPrediction</th>\n",
       "      <th>probability</th>\n",
       "      <th>prediction</th>\n",
       "    </tr>\n",
       "  </thead>\n",
       "  <tbody>\n",
       "    <tr>\n",
       "      <th>0</th>\n",
       "      <td>56</td>\n",
       "      <td>56</td>\n",
       "      <td>45</td>\n",
       "      <td>24.2</td>\n",
       "      <td>22</td>\n",
       "      <td>0</td>\n",
       "      <td>[56.0, 56.0, 24.2, 22.0, 45.0]</td>\n",
       "      <td>[19.60983101078976, 0.3901689892102377]</td>\n",
       "      <td>[0.9804915505394881, 0.019508449460511883]</td>\n",
       "      <td>0.0</td>\n",
       "    </tr>\n",
       "    <tr>\n",
       "      <th>1</th>\n",
       "      <td>57</td>\n",
       "      <td>80</td>\n",
       "      <td>0</td>\n",
       "      <td>32.8</td>\n",
       "      <td>41</td>\n",
       "      <td>0</td>\n",
       "      <td>[57.0, 80.0, 32.8, 41.0, 0.0]</td>\n",
       "      <td>[16.3032212236646, 3.6967787763354005]</td>\n",
       "      <td>[0.8151610611832301, 0.18483893881677002]</td>\n",
       "      <td>0.0</td>\n",
       "    </tr>\n",
       "    <tr>\n",
       "      <th>2</th>\n",
       "      <td>65</td>\n",
       "      <td>72</td>\n",
       "      <td>0</td>\n",
       "      <td>32.0</td>\n",
       "      <td>42</td>\n",
       "      <td>0</td>\n",
       "      <td>[65.0, 72.0, 32.0, 42.0, 0.0]</td>\n",
       "      <td>[16.923402629560293, 3.0765973704397087]</td>\n",
       "      <td>[0.8461701314780147, 0.15382986852198544]</td>\n",
       "      <td>0.0</td>\n",
       "    </tr>\n",
       "    <tr>\n",
       "      <th>3</th>\n",
       "      <td>71</td>\n",
       "      <td>48</td>\n",
       "      <td>76</td>\n",
       "      <td>20.4</td>\n",
       "      <td>22</td>\n",
       "      <td>0</td>\n",
       "      <td>[71.0, 48.0, 20.4, 22.0, 76.0]</td>\n",
       "      <td>[19.60983101078976, 0.3901689892102377]</td>\n",
       "      <td>[0.9804915505394881, 0.019508449460511883]</td>\n",
       "      <td>0.0</td>\n",
       "    </tr>\n",
       "    <tr>\n",
       "      <th>4</th>\n",
       "      <td>74</td>\n",
       "      <td>68</td>\n",
       "      <td>45</td>\n",
       "      <td>29.7</td>\n",
       "      <td>23</td>\n",
       "      <td>0</td>\n",
       "      <td>[74.0, 68.0, 29.7, 23.0, 45.0]</td>\n",
       "      <td>[18.94722737605691, 1.0527726239430866]</td>\n",
       "      <td>[0.9473613688028456, 0.052638631197154326]</td>\n",
       "      <td>0.0</td>\n",
       "    </tr>\n",
       "    <tr>\n",
       "      <th>...</th>\n",
       "      <td>...</td>\n",
       "      <td>...</td>\n",
       "      <td>...</td>\n",
       "      <td>...</td>\n",
       "      <td>...</td>\n",
       "      <td>...</td>\n",
       "      <td>...</td>\n",
       "      <td>...</td>\n",
       "      <td>...</td>\n",
       "      <td>...</td>\n",
       "    </tr>\n",
       "    <tr>\n",
       "      <th>141</th>\n",
       "      <td>177</td>\n",
       "      <td>60</td>\n",
       "      <td>478</td>\n",
       "      <td>34.6</td>\n",
       "      <td>21</td>\n",
       "      <td>1</td>\n",
       "      <td>[177.0, 60.0, 34.6, 21.0, 478.0]</td>\n",
       "      <td>[6.225883524229522, 13.77411647577048]</td>\n",
       "      <td>[0.3112941762114761, 0.688705823788524]</td>\n",
       "      <td>1.0</td>\n",
       "    </tr>\n",
       "    <tr>\n",
       "      <th>142</th>\n",
       "      <td>180</td>\n",
       "      <td>0</td>\n",
       "      <td>0</td>\n",
       "      <td>43.3</td>\n",
       "      <td>41</td>\n",
       "      <td>1</td>\n",
       "      <td>[180.0, 0.0, 43.3, 41.0, 0.0]</td>\n",
       "      <td>[4.618490089716049, 15.381509910283954]</td>\n",
       "      <td>[0.23092450448580243, 0.7690754955141976]</td>\n",
       "      <td>1.0</td>\n",
       "    </tr>\n",
       "    <tr>\n",
       "      <th>143</th>\n",
       "      <td>180</td>\n",
       "      <td>90</td>\n",
       "      <td>90</td>\n",
       "      <td>36.5</td>\n",
       "      <td>35</td>\n",
       "      <td>1</td>\n",
       "      <td>[180.0, 90.0, 36.5, 35.0, 90.0]</td>\n",
       "      <td>[5.707879845538393, 14.292120154461609]</td>\n",
       "      <td>[0.28539399227691964, 0.7146060077230805]</td>\n",
       "      <td>1.0</td>\n",
       "    </tr>\n",
       "    <tr>\n",
       "      <th>144</th>\n",
       "      <td>187</td>\n",
       "      <td>68</td>\n",
       "      <td>304</td>\n",
       "      <td>37.7</td>\n",
       "      <td>41</td>\n",
       "      <td>1</td>\n",
       "      <td>[187.0, 68.0, 37.7, 41.0, 304.0]</td>\n",
       "      <td>[3.4105112328634886, 16.589488767136512]</td>\n",
       "      <td>[0.17052556164317442, 0.8294744383568255]</td>\n",
       "      <td>1.0</td>\n",
       "    </tr>\n",
       "    <tr>\n",
       "      <th>145</th>\n",
       "      <td>189</td>\n",
       "      <td>64</td>\n",
       "      <td>325</td>\n",
       "      <td>31.2</td>\n",
       "      <td>29</td>\n",
       "      <td>1</td>\n",
       "      <td>[189.0, 64.0, 31.2, 29.0, 325.0]</td>\n",
       "      <td>[3.2860356093346574, 16.713964390665343]</td>\n",
       "      <td>[0.16430178046673288, 0.8356982195332672]</td>\n",
       "      <td>1.0</td>\n",
       "    </tr>\n",
       "  </tbody>\n",
       "</table>\n",
       "<p>146 rows × 10 columns</p>\n",
       "</div>"
      ],
      "text/plain": [
       "     Glucose  BloodPressure  Insulin   BMI  Age  Outcome  \\\n",
       "0         56             56       45  24.2   22        0   \n",
       "1         57             80        0  32.8   41        0   \n",
       "2         65             72        0  32.0   42        0   \n",
       "3         71             48       76  20.4   22        0   \n",
       "4         74             68       45  29.7   23        0   \n",
       "..       ...            ...      ...   ...  ...      ...   \n",
       "141      177             60      478  34.6   21        1   \n",
       "142      180              0        0  43.3   41        1   \n",
       "143      180             90       90  36.5   35        1   \n",
       "144      187             68      304  37.7   41        1   \n",
       "145      189             64      325  31.2   29        1   \n",
       "\n",
       "                             features  \\\n",
       "0      [56.0, 56.0, 24.2, 22.0, 45.0]   \n",
       "1       [57.0, 80.0, 32.8, 41.0, 0.0]   \n",
       "2       [65.0, 72.0, 32.0, 42.0, 0.0]   \n",
       "3      [71.0, 48.0, 20.4, 22.0, 76.0]   \n",
       "4      [74.0, 68.0, 29.7, 23.0, 45.0]   \n",
       "..                                ...   \n",
       "141  [177.0, 60.0, 34.6, 21.0, 478.0]   \n",
       "142     [180.0, 0.0, 43.3, 41.0, 0.0]   \n",
       "143   [180.0, 90.0, 36.5, 35.0, 90.0]   \n",
       "144  [187.0, 68.0, 37.7, 41.0, 304.0]   \n",
       "145  [189.0, 64.0, 31.2, 29.0, 325.0]   \n",
       "\n",
       "                                rawPrediction  \\\n",
       "0     [19.60983101078976, 0.3901689892102377]   \n",
       "1      [16.3032212236646, 3.6967787763354005]   \n",
       "2    [16.923402629560293, 3.0765973704397087]   \n",
       "3     [19.60983101078976, 0.3901689892102377]   \n",
       "4     [18.94722737605691, 1.0527726239430866]   \n",
       "..                                        ...   \n",
       "141    [6.225883524229522, 13.77411647577048]   \n",
       "142   [4.618490089716049, 15.381509910283954]   \n",
       "143   [5.707879845538393, 14.292120154461609]   \n",
       "144  [3.4105112328634886, 16.589488767136512]   \n",
       "145  [3.2860356093346574, 16.713964390665343]   \n",
       "\n",
       "                                    probability  prediction  \n",
       "0    [0.9804915505394881, 0.019508449460511883]         0.0  \n",
       "1     [0.8151610611832301, 0.18483893881677002]         0.0  \n",
       "2     [0.8461701314780147, 0.15382986852198544]         0.0  \n",
       "3    [0.9804915505394881, 0.019508449460511883]         0.0  \n",
       "4    [0.9473613688028456, 0.052638631197154326]         0.0  \n",
       "..                                          ...         ...  \n",
       "141     [0.3112941762114761, 0.688705823788524]         1.0  \n",
       "142   [0.23092450448580243, 0.7690754955141976]         1.0  \n",
       "143   [0.28539399227691964, 0.7146060077230805]         1.0  \n",
       "144   [0.17052556164317442, 0.8294744383568255]         1.0  \n",
       "145   [0.16430178046673288, 0.8356982195332672]         1.0  \n",
       "\n",
       "[146 rows x 10 columns]"
      ]
     },
     "execution_count": 27,
     "metadata": {},
     "output_type": "execute_result"
    }
   ],
   "source": [
    "rf_predictions.toPandas()"
   ]
  },
  {
   "cell_type": "code",
   "execution_count": 28,
   "id": "bdf58e4c",
   "metadata": {},
   "outputs": [
    {
     "name": "stdout",
     "output_type": "stream",
     "text": [
      "Random Forest classifier Accuracy: 0.7602739726027398\n"
     ]
    }
   ],
   "source": [
    "from pyspark.ml.evaluation import MulticlassClassificationEvaluator\n",
    "\n",
    "multi_evaluator = MulticlassClassificationEvaluator(labelCol = 'Outcome', metricName = 'accuracy')\n",
    "print('Random Forest classifier Accuracy:', multi_evaluator.evaluate(rf_predictions))"
   ]
  },
  {
   "cell_type": "markdown",
   "id": "e46e3706",
   "metadata": {},
   "source": [
    "## DecisionTreeClassifier"
   ]
  },
  {
   "cell_type": "code",
   "execution_count": 29,
   "id": "b76ec2bf",
   "metadata": {},
   "outputs": [
    {
     "name": "stdout",
     "output_type": "stream",
     "text": [
      "+-------+-------------+----+---+-------+\n",
      "|Glucose|BloodPressure| BMI|Age|Outcome|\n",
      "+-------+-------------+----+---+-------+\n",
      "|     56|           56|24.2| 22|      0|\n",
      "|     57|           80|32.8| 41|      0|\n",
      "|     65|           72|32.0| 42|      0|\n",
      "|     71|           48|20.4| 22|      0|\n",
      "|     74|           68|29.7| 23|      0|\n",
      "|     75|           82|33.3| 38|      0|\n",
      "|     77|           56|33.3| 24|      0|\n",
      "|     80|           80|39.8| 28|      0|\n",
      "|     81|           60|27.7| 25|      0|\n",
      "|     82|           52|28.5| 25|      0|\n",
      "+-------+-------------+----+---+-------+\n",
      "only showing top 10 rows\n",
      "\n"
     ]
    }
   ],
   "source": [
    "from pyspark.ml.classification import DecisionTreeClassifier\n",
    "\n",
    "dt = DecisionTreeClassifier(featuresCol = 'features', labelCol = 'Outcome', maxDepth = 3)\n",
    "\n",
    "dtModel = dt.fit(training_data)\n",
    "\n",
    "dt_predictions = dtModel.transform(test_data)\n",
    "\n",
    "dt_predictions.select('Glucose', 'BloodPressure', 'BMI', 'Age', 'Outcome').show(10)"
   ]
  },
  {
   "cell_type": "code",
   "execution_count": null,
   "id": "d62e1ff4",
   "metadata": {},
   "outputs": [],
   "source": [
    "\n"
   ]
  },
  {
   "cell_type": "code",
   "execution_count": null,
   "id": "a8c3e52f",
   "metadata": {},
   "outputs": [],
   "source": []
  },
  {
   "cell_type": "code",
   "execution_count": 30,
   "id": "c0376b20",
   "metadata": {},
   "outputs": [
    {
     "name": "stdout",
     "output_type": "stream",
     "text": [
      "Decision Tree Accuracy: 0.7945205479452054\n"
     ]
    }
   ],
   "source": [
    "multi_evaluator = MulticlassClassificationEvaluator(labelCol = 'Outcome', metricName = 'accuracy')\n",
    "print('Decision Tree Accuracy:', multi_evaluator.evaluate(dt_predictions))"
   ]
  },
  {
   "cell_type": "code",
   "execution_count": null,
   "id": "e82b3d7e",
   "metadata": {},
   "outputs": [],
   "source": []
  },
  {
   "cell_type": "code",
   "execution_count": null,
   "id": "4cd5da4b",
   "metadata": {},
   "outputs": [],
   "source": []
  },
  {
   "cell_type": "code",
   "execution_count": null,
   "id": "d59ddeae",
   "metadata": {},
   "outputs": [],
   "source": []
  },
  {
   "cell_type": "markdown",
   "id": "c5d0960c",
   "metadata": {},
   "source": [
    "## LogisticRegression"
   ]
  },
  {
   "cell_type": "code",
   "execution_count": null,
   "id": "ad058506",
   "metadata": {},
   "outputs": [],
   "source": [
    "from pyspark.ml.classification import LogisticRegression\n",
    "\n",
    "lr = LogisticRegression(featuresCol = 'features', labelCol = 'Outcome', maxIter=10)\n",
    "lrModel = lr.fit(training_data)\n",
    "lr_predictions = dtModel.transform(test_data)"
   ]
  },
  {
   "cell_type": "code",
   "execution_count": null,
   "id": "62c5969d",
   "metadata": {},
   "outputs": [],
   "source": [
    "multi_evaluator = MulticlassClassificationEvaluator(labelCol = 'Outcome', metricName = 'accuracy')\n",
    "print('Logistic Regression Accuracy:', multi_evaluator.evaluate(lr_predictions))"
   ]
  },
  {
   "cell_type": "code",
   "execution_count": null,
   "id": "55e1e54e",
   "metadata": {},
   "outputs": [],
   "source": [
    "test_data.columns"
   ]
  },
  {
   "cell_type": "code",
   "execution_count": null,
   "id": "a368260c",
   "metadata": {},
   "outputs": [],
   "source": [
    "training_data.columns"
   ]
  },
  {
   "cell_type": "code",
   "execution_count": null,
   "id": "ef144148",
   "metadata": {},
   "outputs": [],
   "source": []
  },
  {
   "cell_type": "code",
   "execution_count": null,
   "id": "89883c5c",
   "metadata": {},
   "outputs": [],
   "source": []
  },
  {
   "cell_type": "code",
   "execution_count": null,
   "id": "8c4cd055",
   "metadata": {},
   "outputs": [],
   "source": []
  },
  {
   "cell_type": "markdown",
   "id": "6b08327e",
   "metadata": {},
   "source": [
    "## GBTClassifier"
   ]
  },
  {
   "cell_type": "code",
   "execution_count": null,
   "id": "ddc5a175",
   "metadata": {},
   "outputs": [],
   "source": [
    "from pyspark.ml.classification import GBTClassifier\n",
    "gb = GBTClassifier(labelCol = 'Outcome', featuresCol = 'features')\n",
    "gbModel = gb.fit(training_data)\n",
    "gb_predictions = gbModel.transform(test_data)"
   ]
  },
  {
   "cell_type": "code",
   "execution_count": null,
   "id": "8ef90d25",
   "metadata": {},
   "outputs": [],
   "source": [
    "print('Gradient-boosted Trees Accuracy:', multi_evaluator.evaluate(gb_predictions))"
   ]
  },
  {
   "cell_type": "code",
   "execution_count": 31,
   "id": "8d2749c9",
   "metadata": {},
   "outputs": [
    {
     "name": "stdout",
     "output_type": "stream",
     "text": [
      "Enter la valeur Glucose : 1\n",
      "Enter la valeur BloodPressure : 2\n",
      "Enter la valeur Insulin : 12\n",
      "Enter la valeur de BMI : 45\n",
      "Enter la valeur d'Age : 15\n"
     ]
    }
   ],
   "source": [
    "# creating an empty list\n",
    "new_features= []\n",
    "  \n",
    "\n",
    "Glucose = int(input(\"Enter la valeur Glucose : \"))\n",
    "BloodPressure = int(input(\"Enter la valeur BloodPressure : \"))\n",
    "Insulin = int(input(\"Enter la valeur Insulin : \"))\n",
    "BMI = int(input(\"Enter la valeur de BMI : \"))\n",
    "Age = int(input(\"Enter la valeur d'Age : \"))\n",
    "\n",
    "  \n",
    "new_features.append(Glucose) # adding the element\n",
    "new_features.append(BloodPressure) # adding the element\n",
    "new_features.append(Insulin) # adding the element\n",
    "new_features.append(BMI) # adding the element\n",
    "new_features.append(Age) # adding the element\n"
   ]
  },
  {
   "cell_type": "code",
   "execution_count": 32,
   "id": "978e9da7",
   "metadata": {},
   "outputs": [],
   "source": [
    "from pyspark.ml.linalg  import Vectors\n",
    "new_features=Vectors.dense(new_features)"
   ]
  },
  {
   "cell_type": "code",
   "execution_count": 33,
   "id": "5c0bd93c",
   "metadata": {},
   "outputs": [
    {
     "name": "stdout",
     "output_type": "stream",
     "text": [
      "[1.0,2.0,12.0,45.0,15.0]\n"
     ]
    }
   ],
   "source": [
    "print(new_features)"
   ]
  },
  {
   "cell_type": "markdown",
   "id": "b1c7a242",
   "metadata": {},
   "source": [
    "## prediction with gbostClassifier"
   ]
  },
  {
   "cell_type": "code",
   "execution_count": 35,
   "id": "f98ea41b",
   "metadata": {},
   "outputs": [
    {
     "name": "stdout",
     "output_type": "stream",
     "text": [
      "test negatif\n"
     ]
    }
   ],
   "source": [
    "\n",
    "if dtModel.predict(new_features)==0.0:\n",
    "    print(\"test negatif\")\n",
    "else:\n",
    "    print(\"test positif\")\n",
    "    \n"
   ]
  },
  {
   "cell_type": "code",
   "execution_count": 36,
   "id": "9d18826c",
   "metadata": {},
   "outputs": [
    {
     "name": "stdout",
     "output_type": "stream",
     "text": [
      "+-------+-------------+-------+----+---+-------+\n",
      "|Glucose|BloodPressure|Insulin| BMI|Age|Outcome|\n",
      "+-------+-------------+-------+----+---+-------+\n",
      "|    148|           72|      0|33.6| 50|      1|\n",
      "|     85|           66|      0|26.6| 31|      0|\n",
      "|    183|           64|      0|23.3| 32|      1|\n",
      "|     89|           66|     94|28.1| 21|      0|\n",
      "|    137|           40|    168|43.1| 33|      1|\n",
      "|    116|           74|      0|25.6| 30|      0|\n",
      "|     78|           50|     88|31.0| 26|      1|\n",
      "|    115|            0|      0|35.3| 29|      0|\n",
      "|    197|           70|    543|30.5| 53|      1|\n",
      "|    125|           96|      0| 0.0| 54|      1|\n",
      "|    110|           92|      0|37.6| 30|      0|\n",
      "|    168|           74|      0|38.0| 34|      1|\n",
      "|    139|           80|      0|27.1| 57|      0|\n",
      "|    189|           60|    846|30.1| 59|      1|\n",
      "|    166|           72|    175|25.8| 51|      1|\n",
      "|    100|            0|      0|30.0| 32|      1|\n",
      "|    118|           84|    230|45.8| 31|      1|\n",
      "|    107|           74|      0|29.6| 31|      1|\n",
      "|    103|           30|     83|43.3| 33|      0|\n",
      "|    115|           70|     96|34.6| 32|      1|\n",
      "+-------+-------------+-------+----+---+-------+\n",
      "only showing top 20 rows\n",
      "\n"
     ]
    }
   ],
   "source": [
    "df.show()"
   ]
  },
  {
   "cell_type": "code",
   "execution_count": 37,
   "id": "3e0c5675",
   "metadata": {},
   "outputs": [
    {
     "name": "stderr",
     "output_type": "stream",
     "text": [
      "                                                                                \r"
     ]
    }
   ],
   "source": [
    "# # Save model\n",
    "dtModel.save('spark-kafka-module')"
   ]
  },
  {
   "cell_type": "code",
   "execution_count": 38,
   "id": "dfbff639",
   "metadata": {},
   "outputs": [
    {
     "name": "stderr",
     "output_type": "stream",
     "text": [
      "                                                                                \r"
     ]
    }
   ],
   "source": [
    "from pyspark.ml.classification import DecisionTreeClassificationModel\n",
    "# Load model\n",
    "loaded_model = DecisionTreeClassificationModel.load('spark-kafka-module')"
   ]
  },
  {
   "cell_type": "code",
   "execution_count": 39,
   "id": "f3b91c18",
   "metadata": {},
   "outputs": [
    {
     "name": "stderr",
     "output_type": "stream",
     "text": [
      "\r",
      "[Stage 84:>                                                         (0 + 1) / 1]\r",
      "\r",
      "                                                                                \r"
     ]
    }
   ],
   "source": [
    "df.write.csv(\"data.csv\")"
   ]
  },
  {
   "cell_type": "markdown",
   "id": "9b1ad4ef",
   "metadata": {},
   "source": [
    "## loaded_model"
   ]
  },
  {
   "cell_type": "code",
   "execution_count": 41,
   "id": "aca99c3c",
   "metadata": {},
   "outputs": [
    {
     "name": "stdout",
     "output_type": "stream",
     "text": [
      "test negatif\n"
     ]
    }
   ],
   "source": [
    "if loaded_model.predict(new_features)==0.0:\n",
    "    print(\"test negatif\")\n",
    "else:\n",
    "    print(\"test positif\")"
   ]
  },
  {
   "cell_type": "code",
   "execution_count": null,
   "id": "cf087e80",
   "metadata": {},
   "outputs": [],
   "source": [
    "!pip install --force-reinstall pyspark==2.4.6"
   ]
  },
  {
   "cell_type": "code",
   "execution_count": null,
   "id": "683dfb35",
   "metadata": {},
   "outputs": [],
   "source": [
    "!pip install kafka-python\n",
    "!pip install confluent_kafka"
   ]
  },
  {
   "cell_type": "code",
   "execution_count": null,
   "id": "8434a083",
   "metadata": {},
   "outputs": [],
   "source": [
    "# from kafka import KafkaProducer\n",
    "# import json\n",
    "# import csv\n",
    "# import time\n",
    "# def on_send_success(record_metadata):\n",
    "#     print(record_metadata.topic)\n",
    "#     print(record_metadata.partition)\n",
    "#     print(record_metadata.offset)\n",
    "\n",
    "\n",
    "# def on_send_error(excp):\n",
    "#     log.error('I am an errback', exc_info=excp)\n",
    "\n",
    "\n",
    "# if _name_ == \"_main_\":\n",
    "#     target_topic = \"topic1\"\n",
    "#     producer = KafkaProducer(bootstrap_servers='localhost:9092',value_serializer=lambda v: json.dumps(v).encode('utf-8'))\n",
    "#     messages = [\"salam\",\"samir\",\"rrrrrrrrrrrrr\",\"eeeeeeeeeeeeeee\"]\n",
    "\n",
    "# with open('diabetes.csv') as file_obj:\n",
    "#     heading = next(file_obj)\n",
    "#     reader_obj = csv.reader(file_obj)\n",
    "#     for row in reader_obj:\n",
    "#         time.sleep(3)\n",
    "#         data=[]\n",
    "#         for j in row:\n",
    "#           data.append(j)\n",
    "#           print(j)\n",
    "\n",
    "#         print(data)\n",
    "#         producer.send(target_topic, json.dumps(data).encode()).add_callback(on_send_success).add_errback(on_send_error)\n",
    "#         #producer.send(target_topic,row).add_callback(on_send_success).add_errback(on_send_error)\n",
    "#         producer.flush(timeout=10) # this forcibly sends any messages that are stuck.\n",
    "# producer.close(timeout=5)"
   ]
  },
  {
   "cell_type": "code",
   "execution_count": null,
   "id": "a6cab2c6",
   "metadata": {},
   "outputs": [],
   "source": [
    "!pip install kafka"
   ]
  },
  {
   "cell_type": "code",
   "execution_count": null,
   "id": "44a9f656",
   "metadata": {},
   "outputs": [],
   "source": [
    "# import json\n",
    "# from kafka import KafkaConsumer\n",
    "\n",
    "# #import findspark\n",
    "# #findspark.init()\n",
    "# #import pyspark # only run after findspark.init()\n",
    "# import pickle\n",
    "# #import pyspark\n",
    "# import time\n",
    "# import re\n",
    "# #from pyspark.ml.classification import DecisionTreeClassificationModel\n",
    "# # Load model\n",
    "# #loaded_model = DecisionTreeClassificationModel.load('my_model_diabete1')\n",
    "\n",
    "# stations = {}\n",
    "# Listargument = []\n",
    "# ##############\n",
    "# entrained_model = 'finalized_model.sav'\n",
    "# loaded_model = pickle.load(open(entrained_model,'rb'))\n",
    "# ###################\n",
    "# consumer = KafkaConsumer(\"topic1\", bootstrap_servers='localhost:9092', group_id=\"consumertraitement\")\n",
    "# for message in consumer:\n",
    "#     arguments = json.loads(message.value.decode())\n",
    "   \n",
    "#     prediction_data = re.findall(r\"[-+]?(?:\\d*\\.\\d+|\\d+)\", arguments)\n",
    "#     print(\"result of   \",prediction_data)\n",
    "#     print(\"\\n\")\n",
    "#     #for j in prediction_data :\n",
    "#         #print(j)\n",
    "#     #print(\"::::::::::::::::::\")\n",
    "   \n",
    " \n",
    "#     # define input\n",
    "\n",
    "# prediction_result = loaded_model.predict(prediction_data)\n",
    "# ######################################################\"\n",
    "# # summarize input and output\n",
    "# print(\"##################################################################\")\n",
    "# if prediction_result[0]==1.0 :\n",
    "#     print(\"tested_positive\")\n",
    "# else :\n",
    "#     print(\"tested_negative\")\n",
    "# #Listargument=[]"
   ]
  },
  {
   "cell_type": "code",
   "execution_count": null,
   "id": "68816411",
   "metadata": {},
   "outputs": [],
   "source": []
  },
  {
   "cell_type": "code",
   "execution_count": null,
   "id": "4e03c425",
   "metadata": {},
   "outputs": [],
   "source": []
  }
 ],
 "metadata": {
  "kernelspec": {
   "display_name": "Python 3 (ipykernel)",
   "language": "python",
   "name": "python3"
  },
  "language_info": {
   "codemirror_mode": {
    "name": "ipython",
    "version": 3
   },
   "file_extension": ".py",
   "mimetype": "text/x-python",
   "name": "python",
   "nbconvert_exporter": "python",
   "pygments_lexer": "ipython3",
   "version": "3.10.6"
  },
  "vscode": {
   "interpreter": {
    "hash": "e9008ae06e0ca6e0ae2fd1af438c1bd03e55928b0aa2c888d7dd635d52c6f9ee"
   }
  }
 },
 "nbformat": 4,
 "nbformat_minor": 5
}
